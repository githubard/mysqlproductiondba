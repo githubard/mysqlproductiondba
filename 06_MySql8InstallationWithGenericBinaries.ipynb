{
 "cells": [
  {
   "cell_type": "code",
   "execution_count": null,
   "metadata": {
    "vscode": {
     "languageId": "plaintext"
    }
   },
   "outputs": [],
   "source": [
    "https://subscription.packtpub.com/book/data/9781788395809/1/ch01lvl1sec14/installing-mysql-on-linux-using-generic-binaries"
   ]
  }
 ],
 "metadata": {
  "language_info": {
   "name": "python"
  }
 },
 "nbformat": 4,
 "nbformat_minor": 2
}
