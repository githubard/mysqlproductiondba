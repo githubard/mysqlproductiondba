{
 "cells": [
  {
   "cell_type": "code",
   "execution_count": null,
   "metadata": {
    "vscode": {
     "languageId": "plaintext"
    }
   },
   "outputs": [],
   "source": [
    "Installing MySQL on Linux Using the MySQL Yum Repository\n",
    " ===============================================================================\n",
    "\n",
    " https://dev.mysql.com/downloads/repo/yum/\n",
    "\n",
    "\n",
    "[mysqluser@mysqlserver ~]$ su -\n",
    "Password: \n",
    "[root@mysqlserver ~]# cd /home/mysqluser/Downloads/\n",
    "[root@mysqlserver Downloads]# \n",
    "[root@mysqlserver Downloads]# ls -rtl\n",
    "total 16\n",
    "-rwxr-xr-x. 1 mysqluser mysqluser 15364 May 13 14:03 mysql84-community-release-el8-1.noarch.rpm\n",
    "[root@mysqlserver Downloads]# \n",
    "\n",
    "\n",
    "[root@mysqlserver Downloads]# yum localinstall mysql84-community-release-el8-1.noarch.rpm\n",
    "\n",
    "Last metadata expiration check: 5:17:32 ago on Mon 13 May 2024 06:24:09 PM IST.\n",
    "Dependencies resolved.\n",
    "Installed:\n",
    "  mysql84-community-release-el8-1.noarch                                                                                            \n",
    "\n",
    "Complete!\n",
    "[root@mysqlserver Downloads]# \n",
    "\n",
    "\n",
    "[root@mysqlserver Downloads]# ls -rtl /etc/yum.repos.d/mysql*\n",
    "-rw-r--r--. 1 root root 2870 Apr 22 14:58 /etc/yum.repos.d/mysql-community-source.repo\n",
    "-rw-r--r--. 1 root root 2755 Apr 22 14:58 /etc/yum.repos.d/mysql-community.repo\n",
    "-rw-r--r--. 1 root root 3070 Apr 22 14:58 /etc/yum.repos.d/mysql-community-debuginfo.repo\n",
    "[root@mysqlserver Downloads]# \n",
    "\n",
    "\n",
    "[root@mysqlserver Downloads]# yum repolist all | grep mysql-8.4\n",
    "mysql-8.4-lts-community                      MySQL 8.4 LTS Community Se enabled\n",
    "mysql-8.4-lts-community-debuginfo            MySQL 8.4 LTS Community Se disabled\n",
    "mysql-8.4-lts-community-source               MySQL 8.4 LTS Community Se disabled\n",
    "[root@mysqlserver Downloads]# \n",
    "\n",
    "[root@mysqlserver Downloads]# yum repolist all | grep mysql80\n",
    "mysql80-community                            MySQL 8.0 Community Server disabled\n",
    "mysql80-community-debuginfo                  MySQL 8.0 Community Server disabled\n",
    "mysql80-community-source                     MySQL 8.0 Community Server disabled\n",
    "[root@mysqlserver Downloads]# \n",
    "\n",
    "\n",
    "we want to install 8.0 version , so enable mysql80-community and disable mysql-8.4-lts-community\n",
    "====================================================================================================\n",
    "\n",
    "[root@mysqlserver Downloads]# yum-config-manager --disable mysql-8.4-lts-community\n",
    "[root@mysqlserver Downloads]# \n",
    "[root@mysqlserver Downloads]# yum-config-manager --enable mysql80-community\n",
    "[root@mysqlserver Downloads]# \n",
    "\n"
   ]
  },
  {
   "cell_type": "code",
   "execution_count": null,
   "metadata": {
    "vscode": {
     "languageId": "plaintext"
    }
   },
   "outputs": [],
   "source": [
    "Insatll MySQL 8.0.20  community server \n",
    "========================================================================\n",
    "\n",
    "if we install with yum install mysql-community-server ,  it will install latest release 8.0.37\n",
    "===============================================================================================\n",
    "\n",
    "[root@mysqlserver Downloads]# yum install mysql*8.0.20*\n",
    "\n",
    "MySQL 8.0 Community Server                                      6.1 MB/s | 3.8 MB        \n",
    "MySQL Connectors Community                                      71 kB/s | 2.6 kB       \n",
    "MySQL Tools 8.4 LTS Community                                  65 kB/s | 2.6 kB       \n",
    "Dependencies resolved.\n",
    "\n",
    " tzdata-java-2021e-1.el8.noarch                                                                                                   \n",
    "  unixODBC-2.3.7-1.el8.x86_64                                                                                                      \n",
    "  zlib-devel-1.2.11-17.el8.x86_64                                                                                                  \n",
    "\n",
    "Complete!\n",
    "[root@mysqlserver Downloads]# "
   ]
  },
  {
   "cell_type": "code",
   "execution_count": null,
   "metadata": {
    "vscode": {
     "languageId": "plaintext"
    }
   },
   "outputs": [],
   "source": [
    "Start and check the mysql version \n",
    "==================================================\n",
    "\n",
    "[root@mysqlserver Downloads]# systemctl start mysqld\n",
    "[root@mysqlserver Downloads]# \n",
    "[root@mysqlserver Downloads]# systemctl status mysqld\n",
    "● mysqld.service - MySQL Server\n",
    "   Loaded: loaded (/usr/lib/systemd/system/mysqld.service; enabled; vendor preset: disabled)\n",
    "   Active: active (running) since Mon 2024-05-13 23:57:36 IST; 10s ago\n",
    "\n",
    "May 13 23:57:27 mysqlserver systemd[1]: Starting MySQL Server...\n",
    "May 13 23:57:36 mysqlserver systemd[1]: Started MySQL Server.\n",
    "[root@mysqlserver Downloads]# \n",
    "[root@mysqlserver Downloads]# systemctl enable mysqld\n",
    "\n",
    "\n",
    "[root@mysqlserver Downloads]# mysql_secure_installation \n",
    "\n",
    "Securing the MySQL server deployment.\n",
    "\n",
    "Enter password for user root: \n",
    "Error: Access denied for user 'root'@'localhost' (using password: NO)\n",
    "[root@mysqlserver Downloads]# \n",
    "\n",
    "\n",
    "[root@mysqlserver Downloads]# cat /var/log/mysqld.log | grep 'temporary'\n",
    "2024-05-13T18:27:31.592806Z 6 [Note] [MY-010454] [Server] A temporary password is generated for \n",
    "root@localhost: l8Z&obfakonG\n",
    "\n",
    "[root@mysqlserver Downloads]# mysql -u root -p\n",
    "Enter password: \n",
    "\n",
    "Welcome to the MySQL monitor.  Commands end with ; or \\g.\n",
    "Your MySQL connection id is 10\n",
    "Server version: 8.0.20\n",
    "\n",
    "mysql> alter user 'root'@'localhost' identified by 'Root@2024';\n",
    "Query OK, 0 rows affected (0.01 sec)\n",
    "\n",
    "mysql> select @@version;\n",
    "+-----------+\n",
    "| @@version |\n",
    "+-----------+\n",
    "| 8.0.20    |\n",
    "+-----------+\n",
    "1 row in set (0.00 sec)"
   ]
  }
 ],
 "metadata": {
  "language_info": {
   "name": "python"
  }
 },
 "nbformat": 4,
 "nbformat_minor": 2
}
